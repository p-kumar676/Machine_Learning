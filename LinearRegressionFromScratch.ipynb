{
  "nbformat": 4,
  "nbformat_minor": 0,
  "metadata": {
    "colab": {
      "provenance": [],
      "authorship_tag": "ABX9TyNowcWgJ1ePoNhHTw9Q5c2x",
      "include_colab_link": true
    },
    "kernelspec": {
      "name": "python3",
      "display_name": "Python 3"
    },
    "language_info": {
      "name": "python"
    }
  },
  "cells": [
    {
      "cell_type": "markdown",
      "metadata": {
        "id": "view-in-github",
        "colab_type": "text"
      },
      "source": [
        "<a href=\"https://colab.research.google.com/github/p-kumar676/Machine_Learning/blob/main/LinearRegressionFromScratch.ipynb\" target=\"_parent\"><img src=\"https://colab.research.google.com/assets/colab-badge.svg\" alt=\"Open In Colab\"/></a>"
      ]
    },
    {
      "cell_type": "code",
      "execution_count": 123,
      "metadata": {
        "id": "GlbKf1ACPscJ"
      },
      "outputs": [],
      "source": [
        "import numpy as np\n",
        "from sklearn.metrics import mean_squared_error, r2_score"
      ]
    },
    {
      "cell_type": "markdown",
      "source": [
        "**Linear Regression**"
      ],
      "metadata": {
        "id": "3PQsd_hBRH3c"
      }
    },
    {
      "cell_type": "code",
      "source": [
        "class Linear_Regression():\n",
        "  #Initiating the hyper_parameters\n",
        "  def __init__(self, lr, iterations, ):\n",
        "    self.lr = lr\n",
        "    self.iterations = iterations\n",
        "\n",
        "  def fit(self, X, Y):\n",
        "    self.row, self.col = X.shape\n",
        "    self.w = np.zeros(self.col)\n",
        "    self.b = 0\n",
        "    self.X = X\n",
        "    self.Y = Y\n",
        "    for i in range(self.iterations):\n",
        "      self.update_weights()\n",
        "\n",
        "  def update_weights(self):\n",
        "    Y_pred = self.predict(self.X)\n",
        "    dw = -2/self.row*(np.dot(self.X.T, (self.Y - Y_pred)))\n",
        "    dc = -2/self.row*(np.sum(self.Y- Y_pred))\n",
        "    self.w = self.w - self.lr*dw\n",
        "    self.b = self.b - self.lr*dc\n",
        "\n",
        "  def predict(self, X):\n",
        "    return np.dot(X, self.w) + self.b\n"
      ],
      "metadata": {
        "id": "zuWl6uNjRDYb"
      },
      "execution_count": 124,
      "outputs": []
    },
    {
      "cell_type": "markdown",
      "source": [
        "**Using Our Model for prediction**"
      ],
      "metadata": {
        "id": "cE1sxW7rc3qg"
      }
    },
    {
      "cell_type": "code",
      "source": [
        "import pandas as pd\n",
        "from sklearn.model_selection import train_test_split\n",
        "from sklearn.linear_model import LinearRegression\n",
        "import matplotlib.pyplot as plt"
      ],
      "metadata": {
        "id": "usINpYThc8SA"
      },
      "execution_count": 125,
      "outputs": []
    },
    {
      "cell_type": "markdown",
      "source": [
        "**Data Collection and preprocessing**"
      ],
      "metadata": {
        "id": "qcSpQbJ-daBd"
      }
    },
    {
      "cell_type": "code",
      "source": [
        "salary_data = pd.read_csv(\"/content/salary_data.csv\")"
      ],
      "metadata": {
        "id": "29sFbAzzdR7F"
      },
      "execution_count": 126,
      "outputs": []
    },
    {
      "cell_type": "code",
      "source": [
        "salary_data.shape"
      ],
      "metadata": {
        "colab": {
          "base_uri": "https://localhost:8080/"
        },
        "id": "NSVcgy_sdq3v",
        "outputId": "405364f0-7afa-43c1-cc2c-7e9ab30edb9b"
      },
      "execution_count": 127,
      "outputs": [
        {
          "output_type": "execute_result",
          "data": {
            "text/plain": [
              "(30, 2)"
            ]
          },
          "metadata": {},
          "execution_count": 127
        }
      ]
    },
    {
      "cell_type": "code",
      "source": [
        "salary_data.isnull().sum()"
      ],
      "metadata": {
        "colab": {
          "base_uri": "https://localhost:8080/",
          "height": 146
        },
        "id": "1mzTEBsDdu9b",
        "outputId": "e7308fd6-7440-4f25-e1da-c5dae8e11c79"
      },
      "execution_count": 128,
      "outputs": [
        {
          "output_type": "execute_result",
          "data": {
            "text/plain": [
              "YearsExperience    0\n",
              "Salary             0\n",
              "dtype: int64"
            ],
            "text/html": [
              "<div>\n",
              "<style scoped>\n",
              "    .dataframe tbody tr th:only-of-type {\n",
              "        vertical-align: middle;\n",
              "    }\n",
              "\n",
              "    .dataframe tbody tr th {\n",
              "        vertical-align: top;\n",
              "    }\n",
              "\n",
              "    .dataframe thead th {\n",
              "        text-align: right;\n",
              "    }\n",
              "</style>\n",
              "<table border=\"1\" class=\"dataframe\">\n",
              "  <thead>\n",
              "    <tr style=\"text-align: right;\">\n",
              "      <th></th>\n",
              "      <th>0</th>\n",
              "    </tr>\n",
              "  </thead>\n",
              "  <tbody>\n",
              "    <tr>\n",
              "      <th>YearsExperience</th>\n",
              "      <td>0</td>\n",
              "    </tr>\n",
              "    <tr>\n",
              "      <th>Salary</th>\n",
              "      <td>0</td>\n",
              "    </tr>\n",
              "  </tbody>\n",
              "</table>\n",
              "</div><br><label><b>dtype:</b> int64</label>"
            ]
          },
          "metadata": {},
          "execution_count": 128
        }
      ]
    },
    {
      "cell_type": "code",
      "source": [
        "X = salary_data.drop(\"Salary\", axis=1)\n",
        "Y = salary_data[\"Salary\"]\n",
        "X_train, X_test, Y_train, Y_test = train_test_split(X, Y, test_size=0.33,  random_state=42)"
      ],
      "metadata": {
        "id": "ewyNb95adyTs"
      },
      "execution_count": 129,
      "outputs": []
    },
    {
      "cell_type": "markdown",
      "source": [
        "**Training the model**"
      ],
      "metadata": {
        "id": "y9EAg12ef-8n"
      }
    },
    {
      "cell_type": "code",
      "source": [
        "our_model = Linear_Regression(0.01, 500)\n",
        "our_model.fit(X_train, Y_train)"
      ],
      "metadata": {
        "id": "kTypqmlIf8t_"
      },
      "execution_count": 130,
      "outputs": []
    },
    {
      "cell_type": "code",
      "source": [
        "print(\"Weight: \", our_model.w[0])\n",
        "print(\"Bias: \", our_model.b)"
      ],
      "metadata": {
        "colab": {
          "base_uri": "https://localhost:8080/"
        },
        "id": "gkuRzmKShTTX",
        "outputId": "005c1535-07b9-4200-9442-5865ac937c7d"
      },
      "execution_count": 131,
      "outputs": [
        {
          "output_type": "stream",
          "name": "stdout",
          "text": [
            "Weight:  9849.659981300278\n",
            "Bias:  22616.423659327305\n"
          ]
        }
      ]
    },
    {
      "cell_type": "code",
      "source": [
        "test_data_pred = our_model.predict(X_test)"
      ],
      "metadata": {
        "id": "kXOhFAwkj6bL"
      },
      "execution_count": 132,
      "outputs": []
    },
    {
      "cell_type": "code",
      "source": [
        "print(\"Predicted Values: \", test_data_pred)"
      ],
      "metadata": {
        "colab": {
          "base_uri": "https://localhost:8080/"
        },
        "id": "UpD5v838jp_P",
        "outputId": "6b7a8bbb-0657-4204-f537-7c9fc4e26d71"
      },
      "execution_count": 133,
      "outputs": [
        {
          "output_type": "stream",
          "name": "stdout",
          "text": [
            "Predicted Values:  [117173.15947981  70879.7575677  103383.63550599  74819.62156022\n",
            "  54135.33559949  59060.16559014 124067.92146672 108308.46549664\n",
            "  62015.06358453  33451.04963876]\n"
          ]
        }
      ]
    },
    {
      "cell_type": "code",
      "source": [
        "print(\"Real Values: \", Y_test.values)"
      ],
      "metadata": {
        "colab": {
          "base_uri": "https://localhost:8080/"
        },
        "id": "ZYyxyyyckUE3",
        "outputId": "9a1325f7-ec52-4c74-8c02-e864ced1fc9e"
      },
      "execution_count": 134,
      "outputs": [
        {
          "output_type": "stream",
          "name": "stdout",
          "text": [
            "Real Values:  [112635  67938 113812  83088  64445  57189 122391 109431  56957  39343]\n"
          ]
        }
      ]
    },
    {
      "cell_type": "markdown",
      "source": [
        "**Visualisation**"
      ],
      "metadata": {
        "id": "iuHBJiOrkq9m"
      }
    },
    {
      "cell_type": "code",
      "source": [
        "plt.scatter(X_test, Y_test, color='red')\n",
        "plt.plot(X_test, test_data_pred, color='blue')\n",
        "plt.xlabel(\"Work Experience\")\n",
        "plt.ylabel(\"Salary\")\n",
        "plt.show()"
      ],
      "metadata": {
        "colab": {
          "base_uri": "https://localhost:8080/",
          "height": 449
        },
        "id": "YbY4qnAfkuVt",
        "outputId": "ffecb8b2-5103-47e9-8e62-5a6d5d977f4d"
      },
      "execution_count": 135,
      "outputs": [
        {
          "output_type": "display_data",
          "data": {
            "text/plain": [
              "<Figure size 640x480 with 1 Axes>"
            ],
            "image/png": "[encoded data removed]"
          },
          "metadata": {}
        }
      ]
    },
    {
      "cell_type": "code",
      "source": [
        "mse = mean_squared_error(Y_test, test_data_pred)\n",
        "r2 = r2_score(Y_test, test_data_pred)\n",
        "print(\"Model Mse: \", mse)"
      ],
      "metadata": {
        "colab": {
          "base_uri": "https://localhost:8080/"
        },
        "id": "8vgzCftFl8_n",
        "outputId": "611da60e-cb44-45f6-e2ae-3dfd82c14d94"
      },
      "execution_count": 136,
      "outputs": [
        {
          "output_type": "stream",
          "name": "stdout",
          "text": [
            "Model Mse:  38052737.34128339\n"
          ]
        }
      ]
    },
    {
      "cell_type": "code",
      "source": [
        "model = LinearRegression()\n",
        "model.fit(X_train, Y_train)\n",
        "inbuilt_test_pred = model.predict(X_test)\n",
        "mse = mean_squared_error(Y_test, inbuilt_test_pred)\n",
        "print(\"Inbuilt_Model mse: \", mse)"
      ],
      "metadata": {
        "colab": {
          "base_uri": "https://localhost:8080/"
        },
        "id": "TYOOogZRmgbC",
        "outputId": "170cc22f-5494-4f62-ae17-a53f362c2ecf"
      },
      "execution_count": 137,
      "outputs": [
        {
          "output_type": "stream",
          "name": "stdout",
          "text": [
            "Inbuilt_Model mse:  35301898.887134895\n"
          ]
        }
      ]
    },
    {
      "cell_type": "code",
      "source": [
        "plt.scatter(X_test, Y_test, color='red')\n",
        "plt.plot(X_test, test_data_pred, color='blue')\n",
        "plt.plot(X_test, inbuilt_test_pred, color=\"green\")\n",
        "plt.xlabel(\"Work# Experience\")\n",
        "plt.ylabel(\"Salary\")\n",
        "plt.title(\"Work Experience vs Salary\")\n",
        "plt.show()"
      ],
      "metadata": {
        "colab": {
          "base_uri": "https://localhost:8080/",
          "height": 472
        },
        "id": "nWHdXhTJnRiI",
        "outputId": "2ae96eaa-54f5-4d75-9070-2d05eafb5b89"
      },
      "execution_count": 138,
      "outputs": [
        {
          "output_type": "display_data",
          "data": {
            "text/plain": [
              "<Figure size 640x480 with 1 Axes>"
            ],
            "image/png": "[encoded data removed]"
          },
          "metadata": {}
        }
      ]
    }
  ]
}